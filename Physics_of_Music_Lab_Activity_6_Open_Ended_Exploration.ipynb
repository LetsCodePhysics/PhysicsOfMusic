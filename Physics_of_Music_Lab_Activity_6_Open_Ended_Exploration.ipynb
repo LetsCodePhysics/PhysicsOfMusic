{
  "nbformat": 4,
  "nbformat_minor": 0,
  "metadata": {
    "colab": {
      "provenance": []
    },
    "kernelspec": {
      "name": "python3",
      "display_name": "Python 3"
    },
    "language_info": {
      "name": "python"
    }
  },
  "cells": [
    {
      "cell_type": "markdown",
      "source": [
        "Open-Ended Exploration\n",
        "\n",
        "You have learned **a lot** this semester! In this final activity, you will define and investigate a question of **your** choosing, then use computational modeling and/or data analysis to investigate your question. You'll have plenty of opportunity for feedback; your instructor wants to help you successfully complete this project so we can all learn from it. At the end of the course, you'll write up a computational letter about your project and use this letter to give an informal presentation to the class.\n",
        "\n",
        "This project is **open-ended**. That means...\n",
        "\n",
        "* You choose the question that your computational letter will answer. I have some suggestions, or you can generate your own. You just need approval before starting your investigation so we can make sure your question is answerable with our time and resources.\n",
        "\n",
        "* You choose how to answer the question, how to address challenges or roadblocks, and how much evidence you provide to support your argument. Your instructor will provide support and feedback along the way.\n",
        "\n",
        "* You can find and use resources from our activities, other students' projects, or references on-line. Chances are, any task you want to accomplish already exists in a code somewhere. You just need to find and adapt someone else's work, and your instructor is eager to help with this."
      ],
      "metadata": {
        "id": "EU-s36LDb5m3"
      }
    },
    {
      "cell_type": "markdown",
      "source": [
        "#Formal Instructions\n",
        "\n",
        "Here are the steps your project will take.\n",
        "\n",
        "1. You can work with a partner or individually. I think you generally accomlpish more with a partner, but I respect your wishes if you prefer to work alone. The remainder of these instructions refer to \"you\" as either you and your partner (\"y'all\") or you working independnetly.\n",
        "\n",
        "2. **By November 9**: You develop a question that your computational letter will answer. The word \"develop\" here means that your question will go through revisions until you and I agree that it's written in a form that you want to answer and are capable of answer with our time and resources.\n",
        "\n",
        "3. **By November 14**: Once you and I agree that your question is in a good shape, you'll develop a plan for answering the question. Just like your question, your plan will go through several rounds of revision in consultation with me (possibly up until the project is finished). Your plan needs to include steps of computational modeling and/or data analysis (just like we've used in our activities).\n",
        "\n",
        "4. **By November 14**: During your planning process, you'll identify 2 of our course learning objectives that your project demonstrates. Discuss these objectives in your computational letter. Here are the options:\n",
        "\n",
        " * Demonstrate an understanding of the nature of sound, including overtone series/harmonic series.\n",
        "\n",
        " * Determine the ratio of frequencies for various intervals.\n",
        "\n",
        " * Be able to decompose multiple sounds into their component frequencies for various instrument tone qualities and study its connections to timbre.\n",
        "\n",
        " * Describe the acoustics of various instruments.\n",
        "\n",
        " * Identify the speed at which sounds travel in various media and its consequences on the acoustics of different performance venues.\n",
        "\n",
        " * Measure sound characteristics in the context of health and safety guidelines. Lab experiments would include measuring decibels of various instruments at different dynamic levels, measuring decibels of various ensembles at various dynamics.\n",
        "\n",
        " * Be able to describe the acoustics of spaces.\n",
        "\n",
        "4. **By November 30**: You carry out your plan to investigate your question. I encourage you to search for computatioanl resources that will carry out steps in your plan. I can help you find these resources. Compile them in a Jupyter notebook and I'll help you modify them into a form that you need.\n",
        "\n",
        "5. I'll host helpdesk sessions during class for you to receive feedback. You should plan to ask at least one question each class during helpdesk sessions.\n",
        "\n",
        "6. **Before December 7**: Write a computational letter, addressed to your classmates, about your project. As always, remember that the person reading your computational letter hasn't been working on this project. They need plenty of context and background explanations to follow your argument and understand your work. A reminder about computational letters: These are \"pieces of writing that explicitly incorporate code to support their theses. They include most or all of the elements one would expect in an ordinary essay (introduction, thesis statement, body paragraphs, conclusion) and have a similar set of goals (to present a step-by-step argument or explanation [to your reader]). However, the argument in a computational [letter] is driven by the output of various blocks of code, with the text serving to both explicate the meaning of the code and to explain the output\" ([Odden](https://uio-ccse.github.io/computational-essay-showroom/)).\n",
        "\n",
        "7. I'll grade your computational letter using our usual specifications rubric with a pass-keep revising grade. Because you've gained experience and practice through 5 activities so far, I have high expectations for your abilities at this point in the semester. But I also recognize that an open-ended project doesn't have a clear path forward or a well-defined correct answer. So I will grade this computational letter with high feedback and generous standards. I will place the greatest emphasis on the process of inquiry, modeling/analysis, and scientific communication. Correctness of the final answer will not factor into the grading.\n",
        "\n",
        "8. **On December 7**: You'll present your computational letter to your classmates. You can pre-record this presentation if you prefer. I'll give you feedback using the grading rubric. You can choose to keep your score or re-represent your project on December 14 during our final exam slot."
      ],
      "metadata": {
        "id": "kzHWM30ZHdCP"
      }
    },
    {
      "cell_type": "markdown",
      "source": [
        "# Suggested Starting Questions\n",
        "\n",
        "Here are some suggested questions you might start with. If you choose one, you'll still need to revise them based on your interests and resources. <font color='green'>**I'll add to these as the semester progresses and we learn together.**\n",
        "\n",
        " * How can you create a Markov chain to generate [GENRE] music, where [GENRE] is a musical genre of your choice?\n",
        "\n",
        " * Can you compare two different rooms accoustically using our technique from Lab Activity 5?\n",
        "\n",
        " * Can you develop a code that guesses an instrument based on its spectrum graph?\n",
        "\n",
        " * Can you develop a code that guesses the key for a piece of music based on its spectrum graph?\n",
        "\n",
        " * Can you recreate one of the psychoacoustic experiments described in Chapter 7 of Rossing, Moore, & Wheeler?\n",
        "\n",
        " * Cam you use a [stretchy tube](https://www.amazon.com/FINGOOO-Pieces-Fidget-Sensory-Decompression/dp/B098J6K4B9/ref=asc_df_B098J6K4B9/?tag=hyprod-20&linkCode=df0&hvadid=647211802282&hvpos=&hvnetw=g&hvrand=6504951459642851274&hvpone=&hvptwo=&hvqmt=&hvdev=c&hvdvcmdl=&hvlocint=&hvlocphy=9011555&hvtargid=pla-1950165429799&psc=1&gclid=CjwKCAjw1t2pBhAFEiwA_-A-NE_5d8zbAJ9aW4sN7OHcyZLfI3YLfD9KfnU_I7iQR_DbvaCWazDrpRoCfMMQAvD_BwE) to demonstrate the relationship $v = f \\lambda$?\n",
        "\n",
        " * Does the spectograph of a chord look the same as the combined spectrographs of each individual note of the chord?\n",
        "\n",
        " * How could you implement autotune in Python?"
      ],
      "metadata": {
        "id": "PRjgHDvXcE2P"
      }
    },
    {
      "cell_type": "code",
      "source": [],
      "metadata": {
        "id": "Ve6l7yq_ZdRo"
      },
      "execution_count": null,
      "outputs": []
    }
  ]
}