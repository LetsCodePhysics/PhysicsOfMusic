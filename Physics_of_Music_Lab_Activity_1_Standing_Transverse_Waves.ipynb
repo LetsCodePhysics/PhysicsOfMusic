{
  "nbformat": 4,
  "nbformat_minor": 0,
  "metadata": {
    "colab": {
      "provenance": []
    },
    "kernelspec": {
      "name": "python3",
      "display_name": "Python 3"
    },
    "language_info": {
      "name": "python"
    }
  },
  "cells": [
    {
      "cell_type": "markdown",
      "source": [
        "# <font color='red'>Student Learning Outcomes\n",
        "\n",
        "<p><font color='red'>\n",
        "To complete this activity, you must demonstrate that you can...\n",
        "</font><p>\n",
        "\n",
        "<font color='red'>\n",
        "1. Demonstrate your understanding of the nature of sound, including overtone series and harmonic series.\n",
        "</font><p>\n",
        "\n",
        "<font color='red'>\n",
        "2. Determine the ratio of frequencies for various intervals.\n",
        "</font><p>\n",
        "\n",
        "<font color='red'>\n",
        "3. Describe the acoustics of various instruments.\n",
        "</font><p>\n",
        "\n",
        "<font color='red'>\n",
        "4. Identify the speed at which sounds travel.\n",
        "</font><p>\n",
        "\n"
      ],
      "metadata": {
        "id": "k1jBZeP7r7iM"
      }
    },
    {
      "cell_type": "markdown",
      "source": [
        "# <font color='red'>Textbook Chapters\n",
        "\n",
        "<font color='red'><p>\n",
        "Chapters 1-4, *The Science of Sound* by Rossing, Moore, & Wheeler</font>\n",
        "\n",
        "<font color='red'><p> Chapters 1-3, *The Physics of Sound* by Berg & Stork</font>"
      ],
      "metadata": {
        "id": "OTDUWpTOsThd"
      }
    },
    {
      "cell_type": "markdown",
      "source": [
        "# <font color='red'>This is a Jupyter notebook!\n",
        "\n",
        "<font color='red'><p>Each lab activity in this course is written in a **Jupyter notebook**, which is an electronic document saved on-line that combines mathematically-formatted text sections with code segments built from the Python programming language.\n",
        "\n",
        "<font color='red'><p>**You will learn how to use these notebooks as part of this course!** No prior experience with any sort of programming is expected of you. Your work will also not be assessed on the quality of code, but how you use it to address the activity's objectives.\n",
        "\n",
        "<font color='red'><p>Here are some general guidelines for using a Jupyter notebook:\n",
        "\n",
        "1. <font color='red'>You and your lab partner(s) each need <b>your own copy</b> of this Jupyter notebook. Click on File $\\rightarrow$ Save a copy in Drive in the menu above to save your own copy.\n",
        "\n",
        "1. <font color='red'>Jupyter notebooks are made from <b>text cells</b> and <b>code cells</b>. This is a text cell. Double click on the text here, and you'll see how it's written. Text cells can use some basic formatting called Markdown to add bolding, change color, etc. (Press Esc to exit the editing view and go back to viewing the text cell like before.)\n",
        "\n",
        "2. <font color='red'>Speaking of color, you might notice that this text is in red. When you see red text, that's instructions from me that <b>you will delete</b> when you finish the activity and replace with the text of your Letter Home. Just double click in the text cell, select all the text and start writing over it.\n",
        "\n",
        "3. <font color='red'>Each code cell (like the one below) contains a set of instructions that we tell Python to carry out. You can edit a code cell by clicking inside and adding, deleting, or changing text. When you're ready for Python to carry out a code cell, just press the Play button in the upper-left corner of the code cell (or press Runtime $\\rightarrow$ Run the focused cell in the menu above). Python will carry out code instructions <b>in order</b> from top to bottom.\n",
        "\n",
        "4. <font color='red'>This Jupyter notebook is connected to a spreadsheet where your group will record your data. For now, all you need to do is open https://docs.google.com/spreadsheets/d/1Q0pyPtAaTdnGgLS1970TcIirn_Gtqdmc5befruWfaZA/edit#gid=1089955858. Then, make a copy of the `data - template` sheet following the instructions in the sheet."
      ],
      "metadata": {
        "id": "HM0lXnVKdVma"
      }
    },
    {
      "cell_type": "markdown",
      "source": [
        "#<font color='red'>Grab a slinky\n",
        "\n",
        "<font color='red'>In this activity, you'll study the motion of waves in a slinky. You and your partner should grab a slinky, a stopwatch and a meterstick. Each of you hold one end of the slinky and move apart to stretch it.\n",
        "\n",
        "![image](https://www.fizzicseducation.com.au/wp-content/uploads/2018/07/Slinky-shake-science-experiment-by-Holly-SciFest-Africa-Grahamstown-March-2015-e1537756467957.jpg)\n",
        "\n",
        "<font color='red'>Measure the **length of your slinky** (the distance between you and your partner) and record this as `length_of_slinky` in the code cell below.\n",
        "\n",
        "#<font color='red'>Create a pulse\n",
        "\n",
        "<font color='red'>Send a <b>transverse pulse</b> (a quick up-and-down disturbance) down your slinky. You'll probably need to practice a few times. When you're ready, record how much time it takes for the pulse to travel down the slinky.\n",
        "\n",
        "<font color='red'>Is the pulse moving too fast? Let it bounce back a few times, take a count, and set the `distance` value below accordingly. You can also record the pulse using high-speed video on your phone."
      ],
      "metadata": {
        "id": "4o2QU7xi4QUY"
      }
    },
    {
      "cell_type": "code",
      "source": [
        "length_of_slinky = ??\n",
        "distance = ??\n",
        "time = ??\n",
        "wave_speed_1 = distance / time\n",
        "print('wave speed is',wave_speed_1)"
      ],
      "metadata": {
        "id": "xVAZS9aNd30N"
      },
      "execution_count": null,
      "outputs": []
    },
    {
      "cell_type": "markdown",
      "source": [
        "#<font color='red'>First speed calculation\n",
        "\n",
        "<font color='red'>Now that the code cell above has all the values it needs, <b>run it</b> to calculate the wave's speed in the slinky.\n",
        "\n",
        "* <font color='red'>What is the wave speed?\n",
        "* <font color='red'>Based on the units your `distance` and `time` were measured in, what are the units of this wave speed (`distance / time`)?"
      ],
      "metadata": {
        "id": "y9W5QA3Z7VL4"
      }
    },
    {
      "cell_type": "markdown",
      "source": [
        "#<font color='red'>Set up a standing wave\n",
        "\n",
        "<font color='red'>Now try to create <b>transverse standing wave patterns</b> in the slinky. This will take some practice! Again, you can also record the motion using high-speed video on your phone. When you feel like you've got a good pattern, record the following information in your data sheet <b>for each pattern</b> that you create:\n",
        "\n",
        "* <font color='red'> The frequency. This is the number of wave oscillations per second. How can you determine this with a stopwatch and eyeballs?\n",
        "\n",
        "* <font color='red'> The number of antinodes.\n",
        "\n",
        "* <font color='red'> The wavelength. How can you determine this from the number of antinodes?\n",
        "\n",
        "<font color='red'>Depending on how tight the slinky is, you can probably get up to 5 or 6 antinodes, but your results may vary.\n",
        "\n",
        "<font color='red'>When you've recorded several sets of data, change the name of `my_sheet` in the code cell below to match the name of your data sheet. Then, <b>run</b> the code cell below to read the data from Google Sheets into the Jupyter notebook. All your data is saved in a variable called `dataframe`, which we'll learn how to use below."
      ],
      "metadata": {
        "id": "MoT2bnPP8C8H"
      }
    },
    {
      "cell_type": "code",
      "execution_count": null,
      "metadata": {
        "id": "mspGagNtrwZu"
      },
      "outputs": [],
      "source": [
        "!pip install openpyxl\n",
        "!pip install xlrd\n",
        "import pandas as pd\n",
        "my_sheet = 'data - Brian'\n",
        "url = 'https://docs.google.com/spreadsheets/d/1Q0pyPtAaTdnGgLS1970TcIirn_Gtqdmc5befruWfaZA/export'\n",
        "dataframe = pd.read_excel(url, sheet_name=my_sheet,engine='openpyxl')\n",
        "print(dataframe)"
      ]
    },
    {
      "cell_type": "markdown",
      "source": [
        "# <font color='red'>What do you notice?\n",
        "\n",
        "<font color='red'>Take a minute to discuss any patterns you notice in the numerical values in your data. Take down notes about this conversation.\n",
        "\n",
        "<font color='red'>Then, talk about how you could test these patterns using a **ratio**.\n",
        "\n",
        "<font color='red'>In the code cell below, you can calculate the **ratio** of each frequency by setting up the following code:\n",
        "```\n",
        "n = 2\n",
        "ratio = dataframe['frequency'][n] / dataframe['frequency'][0]\n",
        "print(ratio)\n",
        "```\n",
        "\n",
        "<font color='red'>Here, `n` is a row from the dataframe, and `'frequency'` tells Python to reference the frequency column. (Python starts counting at 0... It's weird...) The code above calculates the ratio of the `n`th frequency to the lowest frequency from row 0.\n",
        "\n",
        "<font color='red'>Enter this code in the cell below and run it. Try each value of `n` that you have recorded in `dataframe`. Does the set of ratios match the pattern you saw?\n",
        "\n",
        "<font color='red'>Repeat this process for the wavelengths instead of the frequencies. What do you need to change in the code? What pattern do you notice?\n",
        "\n",
        "<font color='red'>How else could you change this ratio calculation to explore what happens to frequency and wavelength as the number of antinodes increases?\n"
      ],
      "metadata": {
        "id": "TlO4tNTeY8D5"
      }
    },
    {
      "cell_type": "code",
      "source": [],
      "metadata": {
        "id": "THaW1L6bozfp"
      },
      "execution_count": null,
      "outputs": []
    },
    {
      "cell_type": "markdown",
      "source": [
        "#<font color='red'>Let's make a graph.\n",
        "\n",
        "<font color='red'>Our next goal is to represent your data using graphs, and then explore what type of mathematical relationship might describe the values of your data. I have created a set of simplified graphing tools called `fitters`. Run the next code cell to import these tools so you can use them here."
      ],
      "metadata": {
        "id": "6zsGBMcdOdx3"
      }
    },
    {
      "cell_type": "code",
      "source": [
        "# Copy the fitters tools to local storage.\n",
        "!git clone https://github.com/LetsCodePhysics/fitters.git\n",
        "# See https://github.com/LetsCodePhysics/fitters/blob/main/README.md for help!\n",
        "# Import the fitters tools into Jupyter.\n",
        "import sys\n",
        "sys.path.insert(0, 'fitters/')\n",
        "import fitters\n",
        "import matplotlib.pyplot as plt\n",
        "# If this works, you should see a 100% notification at the bottom of the output."
      ],
      "metadata": {
        "id": "etERYV8ZGVep"
      },
      "execution_count": null,
      "outputs": []
    },
    {
      "cell_type": "markdown",
      "source": [
        "<font color='red'>Now let's make the graphs. The code cell below creates <b>two</b> graphs: One of frequency versus number of antinodes, and one of frequency versus wavelength. It also creates a fitting function to explore the relationship depicted on each graph. In future activities, you'll need to reason through what type of fitting function to use, but for this first activity I'll give it to you.\n",
        "\n",
        "<font color='red'>Run the code cell below.\n",
        "\n",
        "<font color='red'>The first graph <b>should</b> have a linear relationship between the frequency and the number of antinodes. A linear relationship is built out of a slope (how steep the graph is) and an intercept (how high it starts on the left-hand side of the graph). The two sliders above the graph control these two values. Adjust them until the solid line matches up with your data.\n",
        "\n",
        "<font color='red'>The second graph <b>should</b> have a power-law relationship between the wavelength and the frequency. A power-law relationship is built out of more features, as shown on the sliders above the second graph. Adjust the sliders until the solid line matches up with your data. In your Letter Home, describe what about the graph each slider adjusts."
      ],
      "metadata": {
        "id": "We9Qgzs8W0yO"
      }
    },
    {
      "cell_type": "code",
      "source": [
        "fitters.line_fitter(dataframe['number of antinodes'],dataframe['frequency'])\n",
        "fitters.power_fitter(dataframe['wavelength'],dataframe['frequency'],max_scale=30)"
      ],
      "metadata": {
        "id": "CkpusD9N1AAx"
      },
      "execution_count": null,
      "outputs": []
    },
    {
      "cell_type": "markdown",
      "source": [
        "#<font color='red'>What can we learn from these graphs?\n",
        "\n",
        "<font color='red'>According to the model of standing waves, the slope from the first graph **should** be related to the speed of the wave in the slinky based on the following equation:\n",
        "<font color='red'>\n",
        "$$f = \\frac{nv}{2L}\n",
        "$$\n",
        "\n",
        "<font color='red'>Based on this relationship, the slope should be equal to $\\frac{v}{2L}$. In the code cell below, use your slope value to calcualte the speed of the wave in the slinky."
      ],
      "metadata": {
        "id": "8aMrnjVQo8nL"
      }
    },
    {
      "cell_type": "code",
      "source": [
        "slope_from_fit = ??\n",
        "wave_speed_2 = ??"
      ],
      "metadata": {
        "id": "PwIznVLGdk4i"
      },
      "execution_count": null,
      "outputs": []
    },
    {
      "cell_type": "markdown",
      "source": [
        "<font color='red'>But you also found a value for the wave's speed in the slinky earlier. We can calculate a **percent difference** to tell how close these two values match (0% means perfect match, 100% or more means something went horribly wrong). The code cell below calculates the percent difference between these two values. Add code to the cell below to print `percent_difference` and run the code cell. Discuss how well your two values match."
      ],
      "metadata": {
        "id": "1smskuqXqQeM"
      }
    },
    {
      "cell_type": "code",
      "source": [
        "import numpy as np\n",
        "percent_difference = (wave_speed_1-wave_speed_2) / np.average(wave_speed_1,wave_speed_2)\n"
      ],
      "metadata": {
        "id": "rklfVCJ0d_ed"
      },
      "execution_count": null,
      "outputs": []
    },
    {
      "cell_type": "code",
      "source": [],
      "metadata": {
        "id": "X9LwxFOUrGvM"
      },
      "execution_count": null,
      "outputs": []
    }
  ]
}